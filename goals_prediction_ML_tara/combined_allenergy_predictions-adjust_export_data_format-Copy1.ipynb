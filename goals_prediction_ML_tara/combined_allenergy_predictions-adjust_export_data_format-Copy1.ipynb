{
 "cells": [
  {
   "cell_type": "code",
   "execution_count": 1,
   "id": "liquid-engagement",
   "metadata": {},
   "outputs": [],
   "source": [
    "import pandas as pd\n",
    "from functools import reduce"
   ]
  },
  {
   "cell_type": "code",
   "execution_count": 2,
   "id": "internal-slave",
   "metadata": {},
   "outputs": [],
   "source": [
    "global_allenergy = pd.read_csv('predictions_data_files/global_allenergy.csv', index_col=0)\n",
    "india_allenergy = pd.read_csv('india_allenergy_adjust_recent.csv', index_col=0)\n",
    "us_allenergy = pd.read_csv('us_allenergy_adjust_recent.csv', index_col=0)\n",
    "eu_allenergy = pd.read_csv('eu_allenergy_adjust_recent.csv', index_col=0)\n",
    "china_allenergy = pd.read_csv('china_allenergy_adjust_recent.csv', index_col=0)"
   ]
  },
  {
   "cell_type": "code",
   "execution_count": 3,
   "id": "abroad-graham",
   "metadata": {},
   "outputs": [],
   "source": [
    "global_allenergy = global_allenergy.rename(columns={\"years\":\"year\"})"
   ]
  },
  {
   "cell_type": "code",
   "execution_count": 5,
   "id": "forbidden-socket",
   "metadata": {},
   "outputs": [
    {
     "data": {
      "text/html": [
       "<div>\n",
       "<style scoped>\n",
       "    .dataframe tbody tr th:only-of-type {\n",
       "        vertical-align: middle;\n",
       "    }\n",
       "\n",
       "    .dataframe tbody tr th {\n",
       "        vertical-align: top;\n",
       "    }\n",
       "\n",
       "    .dataframe thead th {\n",
       "        text-align: right;\n",
       "    }\n",
       "</style>\n",
       "<table border=\"1\" class=\"dataframe\">\n",
       "  <thead>\n",
       "    <tr style=\"text-align: right;\">\n",
       "      <th></th>\n",
       "      <th>Global</th>\n",
       "      <th>US</th>\n",
       "      <th>EU</th>\n",
       "      <th>India</th>\n",
       "      <th>China</th>\n",
       "    </tr>\n",
       "    <tr>\n",
       "      <th>year</th>\n",
       "      <th></th>\n",
       "      <th></th>\n",
       "      <th></th>\n",
       "      <th></th>\n",
       "      <th></th>\n",
       "    </tr>\n",
       "  </thead>\n",
       "  <tbody>\n",
       "    <tr>\n",
       "      <th>2020</th>\n",
       "      <td>568.705470</td>\n",
       "      <td>93.694689</td>\n",
       "      <td>66.682708</td>\n",
       "      <td>34.844686</td>\n",
       "      <td>152.765389</td>\n",
       "    </tr>\n",
       "    <tr>\n",
       "      <th>2030</th>\n",
       "      <td>643.046374</td>\n",
       "      <td>84.153539</td>\n",
       "      <td>60.078761</td>\n",
       "      <td>46.789905</td>\n",
       "      <td>205.703530</td>\n",
       "    </tr>\n",
       "    <tr>\n",
       "      <th>2040</th>\n",
       "      <td>717.387278</td>\n",
       "      <td>74.612390</td>\n",
       "      <td>53.474815</td>\n",
       "      <td>58.735124</td>\n",
       "      <td>258.641670</td>\n",
       "    </tr>\n",
       "    <tr>\n",
       "      <th>2050</th>\n",
       "      <td>791.728182</td>\n",
       "      <td>65.071240</td>\n",
       "      <td>46.870869</td>\n",
       "      <td>70.680343</td>\n",
       "      <td>311.579810</td>\n",
       "    </tr>\n",
       "  </tbody>\n",
       "</table>\n",
       "</div>"
      ],
      "text/plain": [
       "          Global         US         EU      India       China\n",
       "year                                                         \n",
       "2020  568.705470  93.694689  66.682708  34.844686  152.765389\n",
       "2030  643.046374  84.153539  60.078761  46.789905  205.703530\n",
       "2040  717.387278  74.612390  53.474815  58.735124  258.641670\n",
       "2050  791.728182  65.071240  46.870869  70.680343  311.579810"
      ]
     },
     "execution_count": 5,
     "metadata": {},
     "output_type": "execute_result"
    }
   ],
   "source": [
    "data_frames = [global_allenergy, us_allenergy, eu_allenergy, india_allenergy, china_allenergy]\n",
    "allenergy_combined = reduce(lambda  left,right: pd.merge(left,right,on=['year'],\n",
    "                                            how='outer'), data_frames)\n",
    "allenergy_combined.set_index('year', inplace=True)\n",
    "allenergy_combined"
   ]
  },
  {
   "cell_type": "code",
   "execution_count": 6,
   "id": "pleased-convenience",
   "metadata": {},
   "outputs": [],
   "source": [
    "allenergy_combined.to_csv('../clean_data/selective_allenergy_predictions_adjust.csv')"
   ]
  },
  {
   "cell_type": "code",
   "execution_count": null,
   "id": "compact-collaboration",
   "metadata": {},
   "outputs": [],
   "source": []
  }
 ],
 "metadata": {
  "kernelspec": {
   "display_name": "Python 3",
   "language": "python",
   "name": "python3"
  },
  "language_info": {
   "codemirror_mode": {
    "name": "ipython",
    "version": 3
   },
   "file_extension": ".py",
   "mimetype": "text/x-python",
   "name": "python",
   "nbconvert_exporter": "python",
   "pygments_lexer": "ipython3",
   "version": "3.6.13"
  }
 },
 "nbformat": 4,
 "nbformat_minor": 5
}
