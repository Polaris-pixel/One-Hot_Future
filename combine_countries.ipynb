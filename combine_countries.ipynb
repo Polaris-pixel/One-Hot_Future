{
 "cells": [
  {
   "cell_type": "code",
   "execution_count": 16,
   "metadata": {},
   "outputs": [],
   "source": [
    "# Import dependencies\n",
    "import pandas as pd\n",
    "import matplotlib.pyplot as plt\n",
    "import numpy as np\n",
    "import scipy.stats as st"
   ]
  },
  {
   "cell_type": "code",
   "execution_count": 38,
   "metadata": {},
   "outputs": [],
   "source": [
    "# Import all files\n",
    "in_data = pd.read_csv(\"in_temp.csv\")\n",
    "in_data.drop(columns={\"Unnamed: 0\"}, inplace=True)\n",
    "ch_data = pd.read_csv(\"ch_temp.csv\")\n",
    "ch_data.drop(columns={\"Unnamed: 0\"}, inplace=True)\n",
    "eu_data = pd.read_csv(\"eu_temp.csv\")\n",
    "eu_data.drop(columns={\"Unnamed: 0\"}, inplace=True)\n",
    "us_data = pd.read_csv(\"us_temp.csv\")\n",
    "us_data.drop(columns={\"Unnamed: 0\"}, inplace=True)\n",
    "global_data = pd.read_csv(\"nasa_all_temp_data_predictions.csv\")\n",
    "global_data.drop(columns={\"Unnamed: 0\"}, inplace=True)"
   ]
  },
  {
   "cell_type": "code",
   "execution_count": 52,
   "metadata": {
    "scrolled": true
   },
   "outputs": [
    {
     "data": {
      "text/html": [
       "<div>\n",
       "<style scoped>\n",
       "    .dataframe tbody tr th:only-of-type {\n",
       "        vertical-align: middle;\n",
       "    }\n",
       "\n",
       "    .dataframe tbody tr th {\n",
       "        vertical-align: top;\n",
       "    }\n",
       "\n",
       "    .dataframe thead th {\n",
       "        text-align: right;\n",
       "    }\n",
       "</style>\n",
       "<table border=\"1\" class=\"dataframe\">\n",
       "  <thead>\n",
       "    <tr style=\"text-align: right;\">\n",
       "      <th></th>\n",
       "      <th>Year</th>\n",
       "      <th>India</th>\n",
       "      <th>China</th>\n",
       "      <th>European_Union</th>\n",
       "      <th>United_States_of_America</th>\n",
       "      <th>No_Smoothing</th>\n",
       "    </tr>\n",
       "  </thead>\n",
       "  <tbody>\n",
       "    <tr>\n",
       "      <th>53</th>\n",
       "      <td>2018</td>\n",
       "      <td>0.712083</td>\n",
       "      <td>1.269083</td>\n",
       "      <td>1.955250</td>\n",
       "      <td>1.211833</td>\n",
       "      <td>0.850000</td>\n",
       "    </tr>\n",
       "    <tr>\n",
       "      <th>54</th>\n",
       "      <td>2019</td>\n",
       "      <td>0.674667</td>\n",
       "      <td>1.478417</td>\n",
       "      <td>2.020000</td>\n",
       "      <td>1.029750</td>\n",
       "      <td>0.980000</td>\n",
       "    </tr>\n",
       "    <tr>\n",
       "      <th>55</th>\n",
       "      <td>2030</td>\n",
       "      <td>0.826061</td>\n",
       "      <td>1.721973</td>\n",
       "      <td>2.109708</td>\n",
       "      <td>1.545445</td>\n",
       "      <td>1.083595</td>\n",
       "    </tr>\n",
       "    <tr>\n",
       "      <th>56</th>\n",
       "      <td>2040</td>\n",
       "      <td>0.978153</td>\n",
       "      <td>2.028027</td>\n",
       "      <td>2.489781</td>\n",
       "      <td>1.825237</td>\n",
       "      <td>1.269935</td>\n",
       "    </tr>\n",
       "    <tr>\n",
       "      <th>57</th>\n",
       "      <td>2050</td>\n",
       "      <td>1.130245</td>\n",
       "      <td>2.334082</td>\n",
       "      <td>2.869854</td>\n",
       "      <td>2.105029</td>\n",
       "      <td>1.456275</td>\n",
       "    </tr>\n",
       "  </tbody>\n",
       "</table>\n",
       "</div>"
      ],
      "text/plain": [
       "    Year     India     China  European_Union  United_States_of_America  \\\n",
       "53  2018  0.712083  1.269083        1.955250                  1.211833   \n",
       "54  2019  0.674667  1.478417        2.020000                  1.029750   \n",
       "55  2030  0.826061  1.721973        2.109708                  1.545445   \n",
       "56  2040  0.978153  2.028027        2.489781                  1.825237   \n",
       "57  2050  1.130245  2.334082        2.869854                  2.105029   \n",
       "\n",
       "    No_Smoothing  \n",
       "53      0.850000  \n",
       "54      0.980000  \n",
       "55      1.083595  \n",
       "56      1.269935  \n",
       "57      1.456275  "
      ]
     },
     "execution_count": 52,
     "metadata": {},
     "output_type": "execute_result"
    }
   ],
   "source": [
    "# data = [in_data, ch_data, eu_data, us_data, global_data]\n",
    "# all_data = pd.concat(data, axis=1, join='outer')\n",
    "the_data = pd.merge(in_data, ch_data, on=\"Year\")\n",
    "data = pd.merge(the_data, eu_data, on=\"Year\")\n",
    "data1 = pd.merge(data, us_data, on=\"Year\")\n",
    "all_data = pd.merge(data1, global_data, on=\"Year\")\n",
    "all_data.tail()"
   ]
  },
  {
   "cell_type": "code",
   "execution_count": 53,
   "metadata": {},
   "outputs": [],
   "source": [
    "all_data.dropna(inplace=True)"
   ]
  },
  {
   "cell_type": "code",
   "execution_count": 54,
   "metadata": {},
   "outputs": [],
   "source": [
    "# all_data_fixed = all_data.drop(columns={\"Unnamed: 0\", 'Year'})"
   ]
  },
  {
   "cell_type": "code",
   "execution_count": 57,
   "metadata": {},
   "outputs": [],
   "source": [
    "all_data = all_data.rename(columns={\"No_Smoothing\": \"Global\"})"
   ]
  },
  {
   "cell_type": "code",
   "execution_count": 58,
   "metadata": {},
   "outputs": [],
   "source": [
    "all_output = all_data.to_csv(\"top5_temp_data.csv\")"
   ]
  },
  {
   "cell_type": "code",
   "execution_count": null,
   "metadata": {},
   "outputs": [],
   "source": []
  }
 ],
 "metadata": {
  "kernelspec": {
   "display_name": "Python 3",
   "language": "python",
   "name": "python3"
  },
  "language_info": {
   "codemirror_mode": {
    "name": "ipython",
    "version": 3
   },
   "file_extension": ".py",
   "mimetype": "text/x-python",
   "name": "python",
   "nbconvert_exporter": "python",
   "pygments_lexer": "ipython3",
   "version": "3.8.5"
  }
 },
 "nbformat": 4,
 "nbformat_minor": 4
}
