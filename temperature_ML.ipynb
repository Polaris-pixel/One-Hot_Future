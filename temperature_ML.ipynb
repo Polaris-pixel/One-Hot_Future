{
 "cells": [
  {
   "cell_type": "code",
   "execution_count": 1,
   "metadata": {},
   "outputs": [],
   "source": [
    "# Apply machine learning to temperature data\n",
    "# Predict how temperatures will change in the future\n",
    "\n",
    "# Import dependencies\n",
    "import pandas as pd\n",
    "import matplotlib.pyplot as plt\n",
    "import numpy as np"
   ]
  },
  {
   "cell_type": "code",
   "execution_count": 2,
   "metadata": {},
   "outputs": [
    {
     "data": {
      "text/html": [
       "<div>\n",
       "<style scoped>\n",
       "    .dataframe tbody tr th:only-of-type {\n",
       "        vertical-align: middle;\n",
       "    }\n",
       "\n",
       "    .dataframe tbody tr th {\n",
       "        vertical-align: top;\n",
       "    }\n",
       "\n",
       "    .dataframe thead th {\n",
       "        text-align: right;\n",
       "    }\n",
       "</style>\n",
       "<table border=\"1\" class=\"dataframe\">\n",
       "  <thead>\n",
       "    <tr style=\"text-align: right;\">\n",
       "      <th></th>\n",
       "      <th>Unnamed: 0</th>\n",
       "      <th>Year</th>\n",
       "      <th>Afghanistan</th>\n",
       "      <th>Africa</th>\n",
       "      <th>Albania</th>\n",
       "      <th>Algeria</th>\n",
       "      <th>American Samoa</th>\n",
       "      <th>Americas</th>\n",
       "      <th>Andorra</th>\n",
       "      <th>Angola</th>\n",
       "      <th>...</th>\n",
       "      <th>Wallis and Futuna Islands</th>\n",
       "      <th>Western Africa</th>\n",
       "      <th>Western Asia</th>\n",
       "      <th>Western Europe</th>\n",
       "      <th>Western Sahara</th>\n",
       "      <th>World</th>\n",
       "      <th>Yemen</th>\n",
       "      <th>Yugoslav SFR</th>\n",
       "      <th>Zambia</th>\n",
       "      <th>Zimbabwe</th>\n",
       "    </tr>\n",
       "  </thead>\n",
       "  <tbody>\n",
       "    <tr>\n",
       "      <th>0</th>\n",
       "      <td>0</td>\n",
       "      <td>1965</td>\n",
       "      <td>0.010000</td>\n",
       "      <td>-0.194667</td>\n",
       "      <td>-0.348833</td>\n",
       "      <td>-0.031917</td>\n",
       "      <td>-0.388500</td>\n",
       "      <td>-0.167583</td>\n",
       "      <td>-0.269250</td>\n",
       "      <td>-0.139833</td>\n",
       "      <td>...</td>\n",
       "      <td>-0.344833</td>\n",
       "      <td>-0.331667</td>\n",
       "      <td>-0.026833</td>\n",
       "      <td>-0.528750</td>\n",
       "      <td>-0.281417</td>\n",
       "      <td>-0.148167</td>\n",
       "      <td>-0.554583</td>\n",
       "      <td>-0.444583</td>\n",
       "      <td>-0.345833</td>\n",
       "      <td>-0.244083</td>\n",
       "    </tr>\n",
       "    <tr>\n",
       "      <th>1</th>\n",
       "      <td>1</td>\n",
       "      <td>1966</td>\n",
       "      <td>0.241417</td>\n",
       "      <td>0.150250</td>\n",
       "      <td>0.422583</td>\n",
       "      <td>0.285750</td>\n",
       "      <td>0.115000</td>\n",
       "      <td>-0.139750</td>\n",
       "      <td>0.355833</td>\n",
       "      <td>0.206750</td>\n",
       "      <td>...</td>\n",
       "      <td>0.006667</td>\n",
       "      <td>0.111500</td>\n",
       "      <td>0.744000</td>\n",
       "      <td>0.378167</td>\n",
       "      <td>0.267917</td>\n",
       "      <td>0.159000</td>\n",
       "      <td>0.062000</td>\n",
       "      <td>0.556750</td>\n",
       "      <td>0.290833</td>\n",
       "      <td>0.165333</td>\n",
       "    </tr>\n",
       "    <tr>\n",
       "      <th>2</th>\n",
       "      <td>2</td>\n",
       "      <td>1967</td>\n",
       "      <td>-0.362667</td>\n",
       "      <td>-0.228167</td>\n",
       "      <td>-0.076083</td>\n",
       "      <td>-0.093000</td>\n",
       "      <td>-0.360083</td>\n",
       "      <td>-0.056000</td>\n",
       "      <td>0.357333</td>\n",
       "      <td>-0.114667</td>\n",
       "      <td>...</td>\n",
       "      <td>-0.230167</td>\n",
       "      <td>-0.281000</td>\n",
       "      <td>-0.734417</td>\n",
       "      <td>0.476250</td>\n",
       "      <td>-0.079917</td>\n",
       "      <td>-0.113500</td>\n",
       "      <td>-0.235083</td>\n",
       "      <td>0.171500</td>\n",
       "      <td>-0.081917</td>\n",
       "      <td>-0.121333</td>\n",
       "    </tr>\n",
       "    <tr>\n",
       "      <th>3</th>\n",
       "      <td>3</td>\n",
       "      <td>1968</td>\n",
       "      <td>-0.339417</td>\n",
       "      <td>-0.166583</td>\n",
       "      <td>0.056417</td>\n",
       "      <td>0.086750</td>\n",
       "      <td>-0.137583</td>\n",
       "      <td>-0.090250</td>\n",
       "      <td>0.198083</td>\n",
       "      <td>-0.160333</td>\n",
       "      <td>...</td>\n",
       "      <td>-0.095333</td>\n",
       "      <td>-0.063667</td>\n",
       "      <td>-0.198083</td>\n",
       "      <td>-0.011083</td>\n",
       "      <td>-0.141417</td>\n",
       "      <td>-0.108750</td>\n",
       "      <td>-0.151167</td>\n",
       "      <td>0.144667</td>\n",
       "      <td>-0.128417</td>\n",
       "      <td>0.089250</td>\n",
       "    </tr>\n",
       "    <tr>\n",
       "      <th>4</th>\n",
       "      <td>4</td>\n",
       "      <td>1969</td>\n",
       "      <td>-0.330667</td>\n",
       "      <td>0.348833</td>\n",
       "      <td>-0.043417</td>\n",
       "      <td>0.150083</td>\n",
       "      <td>0.086250</td>\n",
       "      <td>0.278250</td>\n",
       "      <td>-0.363667</td>\n",
       "      <td>0.207500</td>\n",
       "      <td>...</td>\n",
       "      <td>-0.233833</td>\n",
       "      <td>0.540917</td>\n",
       "      <td>0.345000</td>\n",
       "      <td>-0.216750</td>\n",
       "      <td>0.250917</td>\n",
       "      <td>-0.044500</td>\n",
       "      <td>0.183250</td>\n",
       "      <td>-0.288750</td>\n",
       "      <td>0.240583</td>\n",
       "      <td>0.101917</td>\n",
       "    </tr>\n",
       "  </tbody>\n",
       "</table>\n",
       "<p>5 rows × 286 columns</p>\n",
       "</div>"
      ],
      "text/plain": [
       "   Unnamed: 0  Year  Afghanistan    Africa   Albania   Algeria  \\\n",
       "0           0  1965     0.010000 -0.194667 -0.348833 -0.031917   \n",
       "1           1  1966     0.241417  0.150250  0.422583  0.285750   \n",
       "2           2  1967    -0.362667 -0.228167 -0.076083 -0.093000   \n",
       "3           3  1968    -0.339417 -0.166583  0.056417  0.086750   \n",
       "4           4  1969    -0.330667  0.348833 -0.043417  0.150083   \n",
       "\n",
       "   American Samoa  Americas   Andorra    Angola  ...  \\\n",
       "0       -0.388500 -0.167583 -0.269250 -0.139833  ...   \n",
       "1        0.115000 -0.139750  0.355833  0.206750  ...   \n",
       "2       -0.360083 -0.056000  0.357333 -0.114667  ...   \n",
       "3       -0.137583 -0.090250  0.198083 -0.160333  ...   \n",
       "4        0.086250  0.278250 -0.363667  0.207500  ...   \n",
       "\n",
       "   Wallis and Futuna Islands  Western Africa  Western Asia  Western Europe  \\\n",
       "0                  -0.344833       -0.331667     -0.026833       -0.528750   \n",
       "1                   0.006667        0.111500      0.744000        0.378167   \n",
       "2                  -0.230167       -0.281000     -0.734417        0.476250   \n",
       "3                  -0.095333       -0.063667     -0.198083       -0.011083   \n",
       "4                  -0.233833        0.540917      0.345000       -0.216750   \n",
       "\n",
       "   Western Sahara     World     Yemen  Yugoslav SFR    Zambia  Zimbabwe  \n",
       "0       -0.281417 -0.148167 -0.554583     -0.444583 -0.345833 -0.244083  \n",
       "1        0.267917  0.159000  0.062000      0.556750  0.290833  0.165333  \n",
       "2       -0.079917 -0.113500 -0.235083      0.171500 -0.081917 -0.121333  \n",
       "3       -0.141417 -0.108750 -0.151167      0.144667 -0.128417  0.089250  \n",
       "4        0.250917 -0.044500  0.183250     -0.288750  0.240583  0.101917  \n",
       "\n",
       "[5 rows x 286 columns]"
      ]
     },
     "execution_count": 2,
     "metadata": {},
     "output_type": "execute_result"
    }
   ],
   "source": [
    "temperature_data = pd.read_csv(\"clean_data/annual_mean_by_country.csv\")\n",
    "temp_data = pd.DataFrame(temperature_data)\n",
    "temp_data.head()"
   ]
  },
  {
   "cell_type": "code",
   "execution_count": 3,
   "metadata": {
    "scrolled": true
   },
   "outputs": [
    {
     "data": {
      "text/html": [
       "<div>\n",
       "<style scoped>\n",
       "    .dataframe tbody tr th:only-of-type {\n",
       "        vertical-align: middle;\n",
       "    }\n",
       "\n",
       "    .dataframe tbody tr th {\n",
       "        vertical-align: top;\n",
       "    }\n",
       "\n",
       "    .dataframe thead th {\n",
       "        text-align: right;\n",
       "    }\n",
       "</style>\n",
       "<table border=\"1\" class=\"dataframe\">\n",
       "  <thead>\n",
       "    <tr style=\"text-align: right;\">\n",
       "      <th></th>\n",
       "      <th>Year</th>\n",
       "      <th>Afghanistan</th>\n",
       "      <th>Africa</th>\n",
       "      <th>Albania</th>\n",
       "      <th>Algeria</th>\n",
       "      <th>American Samoa</th>\n",
       "      <th>Americas</th>\n",
       "      <th>Andorra</th>\n",
       "      <th>Angola</th>\n",
       "      <th>Anguilla</th>\n",
       "      <th>...</th>\n",
       "      <th>Wallis and Futuna Islands</th>\n",
       "      <th>Western Africa</th>\n",
       "      <th>Western Asia</th>\n",
       "      <th>Western Europe</th>\n",
       "      <th>Western Sahara</th>\n",
       "      <th>World</th>\n",
       "      <th>Yemen</th>\n",
       "      <th>Yugoslav SFR</th>\n",
       "      <th>Zambia</th>\n",
       "      <th>Zimbabwe</th>\n",
       "    </tr>\n",
       "  </thead>\n",
       "  <tbody>\n",
       "    <tr>\n",
       "      <th>0</th>\n",
       "      <td>1965</td>\n",
       "      <td>0.010000</td>\n",
       "      <td>-0.194667</td>\n",
       "      <td>-0.348833</td>\n",
       "      <td>-0.031917</td>\n",
       "      <td>-0.388500</td>\n",
       "      <td>-0.167583</td>\n",
       "      <td>-0.269250</td>\n",
       "      <td>-0.139833</td>\n",
       "      <td>-0.235833</td>\n",
       "      <td>...</td>\n",
       "      <td>-0.344833</td>\n",
       "      <td>-0.331667</td>\n",
       "      <td>-0.026833</td>\n",
       "      <td>-0.528750</td>\n",
       "      <td>-0.281417</td>\n",
       "      <td>-0.148167</td>\n",
       "      <td>-0.554583</td>\n",
       "      <td>-0.444583</td>\n",
       "      <td>-0.345833</td>\n",
       "      <td>-0.244083</td>\n",
       "    </tr>\n",
       "    <tr>\n",
       "      <th>1</th>\n",
       "      <td>1966</td>\n",
       "      <td>0.241417</td>\n",
       "      <td>0.150250</td>\n",
       "      <td>0.422583</td>\n",
       "      <td>0.285750</td>\n",
       "      <td>0.115000</td>\n",
       "      <td>-0.139750</td>\n",
       "      <td>0.355833</td>\n",
       "      <td>0.206750</td>\n",
       "      <td>-0.009333</td>\n",
       "      <td>...</td>\n",
       "      <td>0.006667</td>\n",
       "      <td>0.111500</td>\n",
       "      <td>0.744000</td>\n",
       "      <td>0.378167</td>\n",
       "      <td>0.267917</td>\n",
       "      <td>0.159000</td>\n",
       "      <td>0.062000</td>\n",
       "      <td>0.556750</td>\n",
       "      <td>0.290833</td>\n",
       "      <td>0.165333</td>\n",
       "    </tr>\n",
       "    <tr>\n",
       "      <th>2</th>\n",
       "      <td>1967</td>\n",
       "      <td>-0.362667</td>\n",
       "      <td>-0.228167</td>\n",
       "      <td>-0.076083</td>\n",
       "      <td>-0.093000</td>\n",
       "      <td>-0.360083</td>\n",
       "      <td>-0.056000</td>\n",
       "      <td>0.357333</td>\n",
       "      <td>-0.114667</td>\n",
       "      <td>-0.294750</td>\n",
       "      <td>...</td>\n",
       "      <td>-0.230167</td>\n",
       "      <td>-0.281000</td>\n",
       "      <td>-0.734417</td>\n",
       "      <td>0.476250</td>\n",
       "      <td>-0.079917</td>\n",
       "      <td>-0.113500</td>\n",
       "      <td>-0.235083</td>\n",
       "      <td>0.171500</td>\n",
       "      <td>-0.081917</td>\n",
       "      <td>-0.121333</td>\n",
       "    </tr>\n",
       "    <tr>\n",
       "      <th>3</th>\n",
       "      <td>1968</td>\n",
       "      <td>-0.339417</td>\n",
       "      <td>-0.166583</td>\n",
       "      <td>0.056417</td>\n",
       "      <td>0.086750</td>\n",
       "      <td>-0.137583</td>\n",
       "      <td>-0.090250</td>\n",
       "      <td>0.198083</td>\n",
       "      <td>-0.160333</td>\n",
       "      <td>-0.187500</td>\n",
       "      <td>...</td>\n",
       "      <td>-0.095333</td>\n",
       "      <td>-0.063667</td>\n",
       "      <td>-0.198083</td>\n",
       "      <td>-0.011083</td>\n",
       "      <td>-0.141417</td>\n",
       "      <td>-0.108750</td>\n",
       "      <td>-0.151167</td>\n",
       "      <td>0.144667</td>\n",
       "      <td>-0.128417</td>\n",
       "      <td>0.089250</td>\n",
       "    </tr>\n",
       "    <tr>\n",
       "      <th>4</th>\n",
       "      <td>1969</td>\n",
       "      <td>-0.330667</td>\n",
       "      <td>0.348833</td>\n",
       "      <td>-0.043417</td>\n",
       "      <td>0.150083</td>\n",
       "      <td>0.086250</td>\n",
       "      <td>0.278250</td>\n",
       "      <td>-0.363667</td>\n",
       "      <td>0.207500</td>\n",
       "      <td>0.270250</td>\n",
       "      <td>...</td>\n",
       "      <td>-0.233833</td>\n",
       "      <td>0.540917</td>\n",
       "      <td>0.345000</td>\n",
       "      <td>-0.216750</td>\n",
       "      <td>0.250917</td>\n",
       "      <td>-0.044500</td>\n",
       "      <td>0.183250</td>\n",
       "      <td>-0.288750</td>\n",
       "      <td>0.240583</td>\n",
       "      <td>0.101917</td>\n",
       "    </tr>\n",
       "  </tbody>\n",
       "</table>\n",
       "<p>5 rows × 285 columns</p>\n",
       "</div>"
      ],
      "text/plain": [
       "   Year  Afghanistan    Africa   Albania   Algeria  American Samoa  Americas  \\\n",
       "0  1965     0.010000 -0.194667 -0.348833 -0.031917       -0.388500 -0.167583   \n",
       "1  1966     0.241417  0.150250  0.422583  0.285750        0.115000 -0.139750   \n",
       "2  1967    -0.362667 -0.228167 -0.076083 -0.093000       -0.360083 -0.056000   \n",
       "3  1968    -0.339417 -0.166583  0.056417  0.086750       -0.137583 -0.090250   \n",
       "4  1969    -0.330667  0.348833 -0.043417  0.150083        0.086250  0.278250   \n",
       "\n",
       "    Andorra    Angola  Anguilla  ...  Wallis and Futuna Islands  \\\n",
       "0 -0.269250 -0.139833 -0.235833  ...                  -0.344833   \n",
       "1  0.355833  0.206750 -0.009333  ...                   0.006667   \n",
       "2  0.357333 -0.114667 -0.294750  ...                  -0.230167   \n",
       "3  0.198083 -0.160333 -0.187500  ...                  -0.095333   \n",
       "4 -0.363667  0.207500  0.270250  ...                  -0.233833   \n",
       "\n",
       "   Western Africa  Western Asia  Western Europe  Western Sahara     World  \\\n",
       "0       -0.331667     -0.026833       -0.528750       -0.281417 -0.148167   \n",
       "1        0.111500      0.744000        0.378167        0.267917  0.159000   \n",
       "2       -0.281000     -0.734417        0.476250       -0.079917 -0.113500   \n",
       "3       -0.063667     -0.198083       -0.011083       -0.141417 -0.108750   \n",
       "4        0.540917      0.345000       -0.216750        0.250917 -0.044500   \n",
       "\n",
       "      Yemen  Yugoslav SFR    Zambia  Zimbabwe  \n",
       "0 -0.554583     -0.444583 -0.345833 -0.244083  \n",
       "1  0.062000      0.556750  0.290833  0.165333  \n",
       "2 -0.235083      0.171500 -0.081917 -0.121333  \n",
       "3 -0.151167      0.144667 -0.128417  0.089250  \n",
       "4  0.183250     -0.288750  0.240583  0.101917  \n",
       "\n",
       "[5 rows x 285 columns]"
      ]
     },
     "execution_count": 3,
     "metadata": {},
     "output_type": "execute_result"
    }
   ],
   "source": [
    "temp = temp_data.drop(columns=\"Unnamed: 0\")\n",
    "temp.head()"
   ]
  },
  {
   "cell_type": "markdown",
   "metadata": {},
   "source": [
    "## Loop through all countries"
   ]
  },
  {
   "cell_type": "code",
   "execution_count": 6,
   "metadata": {},
   "outputs": [
    {
     "name": "stdout",
     "output_type": "stream",
     "text": [
      "Year\n",
      "Afghanistan\n",
      "Africa\n",
      "Albania\n",
      "Algeria\n",
      "American Samoa\n",
      "Americas\n",
      "Andorra\n",
      "Angola\n",
      "Anguilla\n",
      "Annex I countries\n",
      "Antarctica\n",
      "Antigua and Barbuda\n",
      "Argentina\n",
      "Armenia\n",
      "Aruba\n",
      "Asia\n",
      "Australia\n",
      "Australia and New Zealand\n",
      "Austria\n",
      "Azerbaijan\n",
      "Bahamas\n",
      "Bahrain\n",
      "Bangladesh\n",
      "Barbados\n",
      "Belarus\n",
      "Belgium\n",
      "Belgium-Luxembourg\n",
      "Belize\n",
      "Benin\n",
      "Bhutan\n",
      "Bolivia (Plurinational State of)\n",
      "Bosnia and Herzegovina\n",
      "Botswana\n",
      "Brazil\n",
      "British Virgin Islands\n",
      "Brunei Darussalam\n",
      "Bulgaria\n",
      "Burkina Faso\n",
      "Burundi\n",
      "Cabo Verde\n",
      "Cambodia\n",
      "Cameroon\n",
      "Canada\n",
      "Caribbean\n",
      "Cayman Islands\n",
      "Central African Republic\n",
      "Central America\n",
      "Central Asia\n",
      "Chad\n",
      "Channel Islands\n",
      "Chile\n",
      "China\n",
      "China, Hong Kong SAR\n",
      "China, Macao SAR\n",
      "China, Taiwan Province of\n",
      "China, mainland\n",
      "Christmas Island\n",
      "Cocos (Keeling) Islands\n",
      "Colombia\n",
      "Comoros\n",
      "Congo\n",
      "Cook Islands\n",
      "Costa Rica\n",
      "Croatia\n",
      "Cuba\n",
      "Cyprus\n",
      "Czechia\n",
      "Czechoslovakia\n",
      "Côte d'Ivoire\n",
      "Democratic People's Republic of Korea\n",
      "Democratic Republic of the Congo\n",
      "Denmark\n",
      "Djibouti\n",
      "Dominica\n",
      "Dominican Republic\n",
      "Eastern Africa\n",
      "Eastern Asia\n",
      "Eastern Europe\n",
      "Ecuador\n",
      "Egypt\n",
      "El Salvador\n",
      "Equatorial Guinea\n",
      "Eritrea\n",
      "Estonia\n",
      "Eswatini\n",
      "Ethiopia\n",
      "Ethiopia PDR\n",
      "Europe\n",
      "European Union\n",
      "Falkland Islands (Malvinas)\n",
      "Faroe Islands\n",
      "Fiji\n",
      "Finland\n",
      "France\n",
      "French Guiana\n",
      "French Polynesia\n",
      "French Southern and Antarctic Territories\n",
      "Gabon\n",
      "Gambia\n",
      "Georgia\n",
      "Germany\n",
      "Ghana\n",
      "Gibraltar\n",
      "Greece\n",
      "Greenland\n",
      "Grenada\n",
      "Guadeloupe\n",
      "Guatemala\n",
      "Guinea\n",
      "Guinea-Bissau\n",
      "Guyana\n",
      "Haiti\n",
      "Holy See\n",
      "Honduras\n",
      "Hungary\n",
      "Iceland\n",
      "India\n",
      "Indonesia\n",
      "Iran (Islamic Republic of)\n",
      "Iraq\n",
      "Ireland\n",
      "Isle of Man\n",
      "Israel\n",
      "Italy\n",
      "Jamaica\n",
      "Japan\n",
      "Jordan\n",
      "Kazakhstan\n",
      "Kenya\n",
      "Kiribati\n",
      "Kuwait\n",
      "Kyrgyzstan\n",
      "Land Locked Developing Countries\n",
      "Lao People's Democratic Republic\n",
      "Latvia\n",
      "Least Developed Countries\n",
      "Lebanon\n",
      "Lesotho\n",
      "Liberia\n",
      "Libya\n",
      "Liechtenstein\n",
      "Lithuania\n",
      "Low Income Food Deficit Countries\n",
      "Luxembourg\n",
      "Madagascar\n",
      "Malawi\n",
      "Malaysia\n",
      "Maldives\n",
      "Mali\n",
      "Malta\n",
      "Marshall Islands\n",
      "Martinique\n",
      "Mauritania\n",
      "Mauritius\n",
      "Mayotte\n",
      "Melanesia\n",
      "Mexico\n",
      "Micronesia\n",
      "Micronesia (Federated States of)\n",
      "Middle Africa\n",
      "Midway Island\n",
      "Monaco\n",
      "Mongolia\n",
      "Montenegro\n",
      "Montserrat\n",
      "Morocco\n",
      "Mozambique\n",
      "Myanmar\n",
      "Namibia\n",
      "Nauru\n",
      "Nepal\n",
      "Net Food Importing Developing Countries\n",
      "Netherlands\n",
      "Netherlands Antilles (former)\n",
      "New Caledonia\n",
      "New Zealand\n",
      "Nicaragua\n",
      "Niger\n",
      "Nigeria\n",
      "Niue\n",
      "Non-Annex I countries\n",
      "Norfolk Island\n",
      "North Macedonia\n",
      "Northern Africa\n",
      "Northern America\n",
      "Northern Europe\n",
      "Norway\n",
      "OECD\n",
      "Oceania\n",
      "Oman\n",
      "Pacific Islands Trust Territory\n",
      "Pakistan\n",
      "Palau\n",
      "Palestine\n",
      "Panama\n",
      "Papua New Guinea\n",
      "Paraguay\n",
      "Peru\n",
      "Philippines\n",
      "Pitcairn Islands\n",
      "Poland\n",
      "Polynesia\n",
      "Portugal\n",
      "Puerto Rico\n",
      "Qatar\n",
      "Republic of Korea\n",
      "Republic of Moldova\n",
      "Romania\n",
      "Russian Federation\n",
      "Rwanda\n",
      "Réunion\n",
      "Saint Helena, Ascension and Tristan da Cunha\n",
      "Saint Kitts and Nevis\n",
      "Saint Lucia\n",
      "Saint Pierre and Miquelon\n",
      "Saint Vincent and the Grenadines\n",
      "Samoa\n",
      "San Marino\n",
      "Sao Tome and Principe\n",
      "Saudi Arabia\n",
      "Senegal\n",
      "Serbia\n",
      "Serbia and Montenegro\n",
      "Seychelles\n",
      "Sierra Leone\n",
      "Singapore\n",
      "Slovakia\n",
      "Slovenia\n",
      "Small Island Developing States\n",
      "Solomon Islands\n",
      "Somalia\n",
      "South Africa\n",
      "South America\n",
      "South Georgia and the South Sandwich Islands\n",
      "South Sudan\n",
      "South-Eastern Asia\n",
      "Southern Africa\n",
      "Southern Asia\n",
      "Southern Europe\n",
      "Spain\n",
      "Sri Lanka\n",
      "Sudan\n",
      "Sudan (former)\n",
      "Suriname\n",
      "Svalbard and Jan Mayen Islands\n",
      "Sweden\n",
      "Switzerland\n",
      "Syrian Arab Republic\n",
      "Tajikistan\n",
      "Thailand\n",
      "Timor-Leste\n",
      "Togo\n",
      "Tokelau\n",
      "Tonga\n",
      "Trinidad and Tobago\n",
      "Tunisia\n",
      "Turkey\n",
      "Turkmenistan\n",
      "Turks and Caicos Islands\n",
      "Tuvalu\n",
      "USSR\n",
      "Uganda\n",
      "Ukraine\n",
      "United Arab Emirates\n",
      "United Kingdom\n",
      "United Republic of Tanzania\n",
      "United States Virgin Islands\n",
      "United States of America\n",
      "Uruguay\n",
      "Uzbekistan\n",
      "Vanuatu\n",
      "Venezuela (Bolivarian Republic of)\n",
      "Viet Nam\n",
      "Wake Island\n",
      "Wallis and Futuna Islands\n",
      "Western Africa\n",
      "Western Asia\n",
      "Western Europe\n",
      "Western Sahara\n",
      "World\n",
      "Yemen\n",
      "Yugoslav SFR\n",
      "Zambia\n",
      "Zimbabwe\n"
     ]
    }
   ],
   "source": [
    "# Get all country names\n",
    "countries = []\n",
    "for col in temp.columns:\n",
    "    print(col)\n",
    "    countries.append(col)\n",
    "    "
   ]
  },
  {
   "cell_type": "markdown",
   "metadata": {},
   "source": [
    "## Afghanistan Test"
   ]
  },
  {
   "cell_type": "code",
   "execution_count": 58,
   "metadata": {},
   "outputs": [
    {
     "name": "stdout",
     "output_type": "stream",
     "text": [
      "Shape:  (55, 1) (55, 1)\n"
     ]
    },
    {
     "data": {
      "text/plain": [
       "array([[1965],\n",
       "       [1966],\n",
       "       [1967],\n",
       "       [1968],\n",
       "       [1969],\n",
       "       [1970],\n",
       "       [1971],\n",
       "       [1972],\n",
       "       [1973],\n",
       "       [1974],\n",
       "       [1975],\n",
       "       [1976],\n",
       "       [1977],\n",
       "       [1978],\n",
       "       [1979],\n",
       "       [1980],\n",
       "       [1981],\n",
       "       [1982],\n",
       "       [1983],\n",
       "       [1984],\n",
       "       [1985],\n",
       "       [1986],\n",
       "       [1987],\n",
       "       [1988],\n",
       "       [1989],\n",
       "       [1990],\n",
       "       [1991],\n",
       "       [1992],\n",
       "       [1993],\n",
       "       [1994],\n",
       "       [1995],\n",
       "       [1996],\n",
       "       [1997],\n",
       "       [1998],\n",
       "       [1999],\n",
       "       [2000],\n",
       "       [2001],\n",
       "       [2002],\n",
       "       [2003],\n",
       "       [2004],\n",
       "       [2005],\n",
       "       [2006],\n",
       "       [2007],\n",
       "       [2008],\n",
       "       [2009],\n",
       "       [2010],\n",
       "       [2011],\n",
       "       [2012],\n",
       "       [2013],\n",
       "       [2014],\n",
       "       [2015],\n",
       "       [2016],\n",
       "       [2017],\n",
       "       [2018],\n",
       "       [2019]], dtype=int64)"
      ]
     },
     "execution_count": 58,
     "metadata": {},
     "output_type": "execute_result"
    }
   ],
   "source": [
    "X = temp.Year.values.reshape(-1, 1)\n",
    "y = temp.Afghanistan.values.reshape(-1, 1)\n",
    "\n",
    "print(\"Shape: \", X.shape, y.shape)\n",
    "X"
   ]
  },
  {
   "cell_type": "code",
   "execution_count": 23,
   "metadata": {},
   "outputs": [
    {
     "data": {
      "text/plain": [
       "<matplotlib.collections.PathCollection at 0x20891948100>"
      ]
     },
     "execution_count": 23,
     "metadata": {},
     "output_type": "execute_result"
    },
    {
     "data": {
      "image/png": "[encoded data removed]",
      "text/plain": [
       "<Figure size 432x288 with 1 Axes>"
      ]
     },
     "metadata": {
      "needs_background": "light"
     },
     "output_type": "display_data"
    }
   ],
   "source": [
    "plt.scatter(X, y)"
   ]
  },
  {
   "cell_type": "code",
   "execution_count": 24,
   "metadata": {},
   "outputs": [
    {
     "data": {
      "text/plain": [
       "LinearRegression()"
      ]
     },
     "execution_count": 24,
     "metadata": {},
     "output_type": "execute_result"
    }
   ],
   "source": [
    "from sklearn.linear_model import LinearRegression\n",
    "model = LinearRegression()\n",
    "model"
   ]
  },
  {
   "cell_type": "code",
   "execution_count": 25,
   "metadata": {},
   "outputs": [
    {
     "data": {
      "text/plain": [
       "LinearRegression()"
      ]
     },
     "execution_count": 25,
     "metadata": {},
     "output_type": "execute_result"
    }
   ],
   "source": [
    "# Fit the model to the data\n",
    "model.fit(X, y)"
   ]
  },
  {
   "cell_type": "code",
   "execution_count": 26,
   "metadata": {},
   "outputs": [
    {
     "name": "stdout",
     "output_type": "stream",
     "text": [
      "Weight coefficients:  [[0.02793726]]\n",
      "y-axis intercept:  [-55.1788088]\n"
     ]
    }
   ],
   "source": [
    "# Print the coefficient and the intercept for the model\n",
    "print('Weight coefficients: ', model.coef_)\n",
    "print('y-axis intercept: ', model.intercept_)"
   ]
  },
  {
   "cell_type": "code",
   "execution_count": 27,
   "metadata": {},
   "outputs": [
    {
     "name": "stdout",
     "output_type": "stream",
     "text": [
      "Min X Value: [[1965]]\n",
      "Max X Value: [[2019]]\n"
     ]
    }
   ],
   "source": [
    "# Note: we have to transform our min and max values \n",
    "# so they are in the format: array([[ 1.17]])\n",
    "# This is the required format for `model.predict()`\n",
    "\n",
    "x_min = np.array([[X.min()]])\n",
    "x_max = np.array([[X.max()]])\n",
    "print(f\"Min X Value: {x_min}\")\n",
    "print(f\"Max X Value: {x_max}\")"
   ]
  },
  {
   "cell_type": "code",
   "execution_count": 28,
   "metadata": {},
   "outputs": [],
   "source": [
    "# Calculate the y_min and y_max using model.predict and x_min and x_max\n",
    "y_min = model.predict(x_min)\n",
    "y_max = model.predict(x_max)"
   ]
  },
  {
   "cell_type": "code",
   "execution_count": 29,
   "metadata": {},
   "outputs": [
    {
     "data": {
      "text/plain": [
       "[<matplotlib.lines.Line2D at 0x20891a2fa30>]"
      ]
     },
     "execution_count": 29,
     "metadata": {},
     "output_type": "execute_result"
    },
    {
     "data": {
      "image/png": "[encoded data removed]",
      "text/plain": [
       "<Figure size 432x288 with 1 Axes>"
      ]
     },
     "metadata": {
      "needs_background": "light"
     },
     "output_type": "display_data"
    }
   ],
   "source": [
    "# Plot X and y using plt.scatter\n",
    "# Plot the model fit line using [x_min[0], x_max[0]], [y_min[0], y_max[0]]\n",
    "plt.scatter(X, y, c='blue')\n",
    "plt.plot([x_min[0], x_max[0]], [y_min[0], y_max[0]], c='red')"
   ]
  },
  {
   "cell_type": "code",
   "execution_count": 30,
   "metadata": {},
   "outputs": [
    {
     "data": {
      "text/plain": [
       "array([[1.53382798]])"
      ]
     },
     "execution_count": 30,
     "metadata": {},
     "output_type": "execute_result"
    }
   ],
   "source": [
    "# Predict anual temperature change in 2030\n",
    "y_2030 = model.predict([[2030]])\n",
    "y_2030"
   ]
  },
  {
   "cell_type": "markdown",
   "metadata": {},
   "source": [
    "## World test"
   ]
  },
  {
   "cell_type": "code",
   "execution_count": 71,
   "metadata": {},
   "outputs": [
    {
     "name": "stdout",
     "output_type": "stream",
     "text": [
      "Shape:  (55, 1) (55, 1)\n"
     ]
    },
    {
     "data": {
      "text/plain": [
       "array([[1965],\n",
       "       [1966],\n",
       "       [1967],\n",
       "       [1968],\n",
       "       [1969],\n",
       "       [1970],\n",
       "       [1971],\n",
       "       [1972],\n",
       "       [1973],\n",
       "       [1974],\n",
       "       [1975],\n",
       "       [1976],\n",
       "       [1977],\n",
       "       [1978],\n",
       "       [1979],\n",
       "       [1980],\n",
       "       [1981],\n",
       "       [1982],\n",
       "       [1983],\n",
       "       [1984],\n",
       "       [1985],\n",
       "       [1986],\n",
       "       [1987],\n",
       "       [1988],\n",
       "       [1989],\n",
       "       [1990],\n",
       "       [1991],\n",
       "       [1992],\n",
       "       [1993],\n",
       "       [1994],\n",
       "       [1995],\n",
       "       [1996],\n",
       "       [1997],\n",
       "       [1998],\n",
       "       [1999],\n",
       "       [2000],\n",
       "       [2001],\n",
       "       [2002],\n",
       "       [2003],\n",
       "       [2004],\n",
       "       [2005],\n",
       "       [2006],\n",
       "       [2007],\n",
       "       [2008],\n",
       "       [2009],\n",
       "       [2010],\n",
       "       [2011],\n",
       "       [2012],\n",
       "       [2013],\n",
       "       [2014],\n",
       "       [2015],\n",
       "       [2016],\n",
       "       [2017],\n",
       "       [2018],\n",
       "       [2019]], dtype=int64)"
      ]
     },
     "execution_count": 71,
     "metadata": {},
     "output_type": "execute_result"
    }
   ],
   "source": [
    "X = temp.Year.values.reshape(-1, 1)\n",
    "y = temp.World.values.reshape(-1, 1)\n",
    "\n",
    "print(\"Shape: \", X.shape, y.shape)\n",
    "X"
   ]
  },
  {
   "cell_type": "code",
   "execution_count": 72,
   "metadata": {},
   "outputs": [
    {
     "data": {
      "text/plain": [
       "<matplotlib.collections.PathCollection at 0x20891a90a30>"
      ]
     },
     "execution_count": 72,
     "metadata": {},
     "output_type": "execute_result"
    },
    {
     "data": {
      "image/png": "[encoded data removed]",
      "text/plain": [
       "<Figure size 432x288 with 1 Axes>"
      ]
     },
     "metadata": {
      "needs_background": "light"
     },
     "output_type": "display_data"
    }
   ],
   "source": [
    "plt.scatter(X, y)"
   ]
  },
  {
   "cell_type": "code",
   "execution_count": 73,
   "metadata": {},
   "outputs": [
    {
     "data": {
      "text/plain": [
       "LinearRegression()"
      ]
     },
     "execution_count": 73,
     "metadata": {},
     "output_type": "execute_result"
    }
   ],
   "source": [
    "from sklearn.linear_model import LinearRegression\n",
    "model = LinearRegression()\n",
    "model"
   ]
  },
  {
   "cell_type": "code",
   "execution_count": 74,
   "metadata": {},
   "outputs": [
    {
     "data": {
      "text/plain": [
       "LinearRegression()"
      ]
     },
     "execution_count": 74,
     "metadata": {},
     "output_type": "execute_result"
    }
   ],
   "source": [
    "# Fit the model to the data\n",
    "model.fit(X, y)"
   ]
  },
  {
   "cell_type": "code",
   "execution_count": 75,
   "metadata": {},
   "outputs": [
    {
     "name": "stdout",
     "output_type": "stream",
     "text": [
      "Weight coefficients:  [[0.02986112]]\n",
      "y-axis intercept:  [-58.92054971]\n"
     ]
    }
   ],
   "source": [
    "# Print the coefficient and the intercept for the model\n",
    "print('Weight coefficients: ', model.coef_)\n",
    "print('y-axis intercept: ', model.intercept_)"
   ]
  },
  {
   "cell_type": "code",
   "execution_count": 76,
   "metadata": {},
   "outputs": [
    {
     "name": "stdout",
     "output_type": "stream",
     "text": [
      "Min X Value: [[1965]]\n",
      "Max X Value: [[2019]]\n"
     ]
    }
   ],
   "source": [
    "# Note: we have to transform our min and max values \n",
    "# so they are in the format: array([[ 1.17]])\n",
    "# This is the required format for `model.predict()`\n",
    "\n",
    "x_min = np.array([[X.min()]])\n",
    "x_max = np.array([[X.max()]])\n",
    "print(f\"Min X Value: {x_min}\")\n",
    "print(f\"Max X Value: {x_max}\")"
   ]
  },
  {
   "cell_type": "code",
   "execution_count": 77,
   "metadata": {},
   "outputs": [],
   "source": [
    "# Calculate the y_min and y_max using model.predict and x_min and x_max\n",
    "y_min = model.predict(x_min)\n",
    "y_max = model.predict(x_max)"
   ]
  },
  {
   "cell_type": "code",
   "execution_count": 78,
   "metadata": {},
   "outputs": [
    {
     "data": {
      "text/plain": [
       "[<matplotlib.lines.Line2D at 0x20891ebfa00>]"
      ]
     },
     "execution_count": 78,
     "metadata": {},
     "output_type": "execute_result"
    },
    {
     "data": {
      "image/png": "[encoded data removed]",
      "text/plain": [
       "<Figure size 432x288 with 1 Axes>"
      ]
     },
     "metadata": {
      "needs_background": "light"
     },
     "output_type": "display_data"
    }
   ],
   "source": [
    "# Plot X and y using plt.scatter\n",
    "# Plot the model fit line using [x_min[0], x_max[0]], [y_min[0], y_max[0]]\n",
    "plt.scatter(X, y, c='blue')\n",
    "plt.plot([x_min[0], x_max[0]], [y_min[0], y_max[0]], c='red')"
   ]
  },
  {
   "cell_type": "code",
   "execution_count": 79,
   "metadata": {},
   "outputs": [
    {
     "data": {
      "text/plain": [
       "array([[1.69753025]])"
      ]
     },
     "execution_count": 79,
     "metadata": {},
     "output_type": "execute_result"
    }
   ],
   "source": [
    "# Predict anual temperature change in 2030\n",
    "y_2030 = model.predict([[2030]])\n",
    "y_2030"
   ]
  },
  {
   "cell_type": "markdown",
   "metadata": {},
   "source": []
  },
  {
   "cell_type": "code",
   "execution_count": 11,
   "metadata": {},
   "outputs": [
    {
     "ename": "AttributeError",
     "evalue": "'DataFrame' object has no attribute 'country'",
     "output_type": "error",
     "traceback": [
      "\u001b[1;31m---------------------------------------------------------------------------\u001b[0m",
      "\u001b[1;31mAttributeError\u001b[0m                            Traceback (most recent call last)",
      "\u001b[1;32m<ipython-input-11-06d8b55ee5ab>\u001b[0m in \u001b[0;36m<module>\u001b[1;34m\u001b[0m\n\u001b[0;32m      2\u001b[0m     \u001b[0mcountry\u001b[0m \u001b[1;33m=\u001b[0m \u001b[0mcountries\u001b[0m\u001b[1;33m\u001b[0m\u001b[1;33m\u001b[0m\u001b[0m\n\u001b[0;32m      3\u001b[0m     \u001b[0mX\u001b[0m \u001b[1;33m=\u001b[0m \u001b[0mtemp\u001b[0m\u001b[1;33m.\u001b[0m\u001b[0mYear\u001b[0m\u001b[1;33m.\u001b[0m\u001b[0mvalues\u001b[0m\u001b[1;33m.\u001b[0m\u001b[0mreshape\u001b[0m\u001b[1;33m(\u001b[0m\u001b[1;33m-\u001b[0m\u001b[1;36m1\u001b[0m\u001b[1;33m,\u001b[0m \u001b[1;36m1\u001b[0m\u001b[1;33m)\u001b[0m\u001b[1;33m\u001b[0m\u001b[1;33m\u001b[0m\u001b[0m\n\u001b[1;32m----> 4\u001b[1;33m     \u001b[0my\u001b[0m \u001b[1;33m=\u001b[0m \u001b[0mtemp\u001b[0m\u001b[1;33m.\u001b[0m\u001b[0mcountry\u001b[0m\u001b[1;33m.\u001b[0m\u001b[0mvalues\u001b[0m\u001b[1;33m.\u001b[0m\u001b[0mreshape\u001b[0m\u001b[1;33m(\u001b[0m\u001b[1;33m-\u001b[0m\u001b[1;36m1\u001b[0m\u001b[1;33m,\u001b[0m \u001b[1;36m1\u001b[0m\u001b[1;33m)\u001b[0m\u001b[1;33m\u001b[0m\u001b[1;33m\u001b[0m\u001b[0m\n\u001b[0m\u001b[0;32m      5\u001b[0m     \u001b[0mprint\u001b[0m\u001b[1;33m(\u001b[0m\u001b[1;34m\"Shape: \"\u001b[0m\u001b[1;33m,\u001b[0m \u001b[0mX\u001b[0m\u001b[1;33m.\u001b[0m\u001b[0mshape\u001b[0m\u001b[1;33m,\u001b[0m \u001b[0my\u001b[0m\u001b[1;33m.\u001b[0m\u001b[0mshape\u001b[0m\u001b[1;33m)\u001b[0m\u001b[1;33m\u001b[0m\u001b[1;33m\u001b[0m\u001b[0m\n\u001b[0;32m      6\u001b[0m     \u001b[0mX\u001b[0m\u001b[1;33m\u001b[0m\u001b[1;33m\u001b[0m\u001b[0m\n",
      "\u001b[1;32m~\\anaconda3\\lib\\site-packages\\pandas\\core\\generic.py\u001b[0m in \u001b[0;36m__getattr__\u001b[1;34m(self, name)\u001b[0m\n\u001b[0;32m   5137\u001b[0m             \u001b[1;32mif\u001b[0m \u001b[0mself\u001b[0m\u001b[1;33m.\u001b[0m\u001b[0m_info_axis\u001b[0m\u001b[1;33m.\u001b[0m\u001b[0m_can_hold_identifiers_and_holds_name\u001b[0m\u001b[1;33m(\u001b[0m\u001b[0mname\u001b[0m\u001b[1;33m)\u001b[0m\u001b[1;33m:\u001b[0m\u001b[1;33m\u001b[0m\u001b[1;33m\u001b[0m\u001b[0m\n\u001b[0;32m   5138\u001b[0m                 \u001b[1;32mreturn\u001b[0m \u001b[0mself\u001b[0m\u001b[1;33m[\u001b[0m\u001b[0mname\u001b[0m\u001b[1;33m]\u001b[0m\u001b[1;33m\u001b[0m\u001b[1;33m\u001b[0m\u001b[0m\n\u001b[1;32m-> 5139\u001b[1;33m             \u001b[1;32mreturn\u001b[0m \u001b[0mobject\u001b[0m\u001b[1;33m.\u001b[0m\u001b[0m__getattribute__\u001b[0m\u001b[1;33m(\u001b[0m\u001b[0mself\u001b[0m\u001b[1;33m,\u001b[0m \u001b[0mname\u001b[0m\u001b[1;33m)\u001b[0m\u001b[1;33m\u001b[0m\u001b[1;33m\u001b[0m\u001b[0m\n\u001b[0m\u001b[0;32m   5140\u001b[0m \u001b[1;33m\u001b[0m\u001b[0m\n\u001b[0;32m   5141\u001b[0m     \u001b[1;32mdef\u001b[0m \u001b[0m__setattr__\u001b[0m\u001b[1;33m(\u001b[0m\u001b[0mself\u001b[0m\u001b[1;33m,\u001b[0m \u001b[0mname\u001b[0m\u001b[1;33m:\u001b[0m \u001b[0mstr\u001b[0m\u001b[1;33m,\u001b[0m \u001b[0mvalue\u001b[0m\u001b[1;33m)\u001b[0m \u001b[1;33m->\u001b[0m \u001b[1;32mNone\u001b[0m\u001b[1;33m:\u001b[0m\u001b[1;33m\u001b[0m\u001b[1;33m\u001b[0m\u001b[0m\n",
      "\u001b[1;31mAttributeError\u001b[0m: 'DataFrame' object has no attribute 'country'"
     ]
    }
   ],
   "source": []
  },
  {
   "cell_type": "code",
   "execution_count": null,
   "metadata": {},
   "outputs": [],
   "source": []
  }
 ],
 "metadata": {
  "kernelspec": {
   "display_name": "Python 3",
   "language": "python",
   "name": "python3"
  },
  "language_info": {
   "codemirror_mode": {
    "name": "ipython",
    "version": 3
   },
   "file_extension": ".py",
   "mimetype": "text/x-python",
   "name": "python",
   "nbconvert_exporter": "python",
   "pygments_lexer": "ipython3",
   "version": "3.8.5"
  }
 },
 "nbformat": 4,
 "nbformat_minor": 4
}
